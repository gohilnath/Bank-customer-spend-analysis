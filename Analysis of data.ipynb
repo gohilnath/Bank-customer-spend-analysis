{
 "cells": [
  {
   "cell_type": "code",
   "execution_count": 1,
   "id": "dff6f0b7-6fe4-4449-b76d-802da97358bc",
   "metadata": {},
   "outputs": [],
   "source": [
    "import pandas as pd"
   ]
  },
  {
   "cell_type": "code",
   "execution_count": 2,
   "id": "40f9aa83-25f2-4001-9d53-89727d08cc48",
   "metadata": {},
   "outputs": [
    {
     "name": "stderr",
     "output_type": "stream",
     "text": [
      "<>:1: SyntaxWarning: invalid escape sequence '\\d'\n",
      "<>:1: SyntaxWarning: invalid escape sequence '\\d'\n",
      "C:\\Users\\Rakesh Nath\\AppData\\Local\\Temp\\ipykernel_16696\\3400783167.py:1: SyntaxWarning: invalid escape sequence '\\d'\n",
      "  df_customer= pd.read_csv(\"data\\dim_customers.csv\")\n"
     ]
    }
   ],
   "source": [
    "df_customer= pd.read_csv(\"data\\dim_customers.csv\")"
   ]
  },
  {
   "cell_type": "code",
   "execution_count": 4,
   "id": "e959925d-5d35-42c3-9d72-b513b5afab97",
   "metadata": {},
   "outputs": [
    {
     "data": {
      "text/html": [
       "<div>\n",
       "<style scoped>\n",
       "    .dataframe tbody tr th:only-of-type {\n",
       "        vertical-align: middle;\n",
       "    }\n",
       "\n",
       "    .dataframe tbody tr th {\n",
       "        vertical-align: top;\n",
       "    }\n",
       "\n",
       "    .dataframe thead th {\n",
       "        text-align: right;\n",
       "    }\n",
       "</style>\n",
       "<table border=\"1\" class=\"dataframe\">\n",
       "  <thead>\n",
       "    <tr style=\"text-align: right;\">\n",
       "      <th></th>\n",
       "      <th>customer_id</th>\n",
       "      <th>age_group</th>\n",
       "      <th>city</th>\n",
       "      <th>occupation</th>\n",
       "      <th>gender</th>\n",
       "      <th>marital status</th>\n",
       "      <th>avg_income</th>\n",
       "    </tr>\n",
       "  </thead>\n",
       "  <tbody>\n",
       "    <tr>\n",
       "      <th>0</th>\n",
       "      <td>ATQCUS1825</td>\n",
       "      <td>45+</td>\n",
       "      <td>Bengaluru</td>\n",
       "      <td>Salaried IT Employees</td>\n",
       "      <td>Male</td>\n",
       "      <td>Married</td>\n",
       "      <td>73523</td>\n",
       "    </tr>\n",
       "    <tr>\n",
       "      <th>1</th>\n",
       "      <td>ATQCUS0809</td>\n",
       "      <td>25-34</td>\n",
       "      <td>Hyderabad</td>\n",
       "      <td>Salaried Other Employees</td>\n",
       "      <td>Male</td>\n",
       "      <td>Married</td>\n",
       "      <td>39922</td>\n",
       "    </tr>\n",
       "    <tr>\n",
       "      <th>2</th>\n",
       "      <td>ATQCUS0663</td>\n",
       "      <td>25-34</td>\n",
       "      <td>Chennai</td>\n",
       "      <td>Salaried Other Employees</td>\n",
       "      <td>Male</td>\n",
       "      <td>Married</td>\n",
       "      <td>37702</td>\n",
       "    </tr>\n",
       "    <tr>\n",
       "      <th>3</th>\n",
       "      <td>ATQCUS0452</td>\n",
       "      <td>25-34</td>\n",
       "      <td>Delhi NCR</td>\n",
       "      <td>Government Employees</td>\n",
       "      <td>Male</td>\n",
       "      <td>Married</td>\n",
       "      <td>54090</td>\n",
       "    </tr>\n",
       "    <tr>\n",
       "      <th>4</th>\n",
       "      <td>ATQCUS3350</td>\n",
       "      <td>21-24</td>\n",
       "      <td>Bengaluru</td>\n",
       "      <td>Freelancers</td>\n",
       "      <td>Male</td>\n",
       "      <td>Single</td>\n",
       "      <td>28376</td>\n",
       "    </tr>\n",
       "    <tr>\n",
       "      <th>...</th>\n",
       "      <td>...</td>\n",
       "      <td>...</td>\n",
       "      <td>...</td>\n",
       "      <td>...</td>\n",
       "      <td>...</td>\n",
       "      <td>...</td>\n",
       "      <td>...</td>\n",
       "    </tr>\n",
       "    <tr>\n",
       "      <th>3995</th>\n",
       "      <td>ATQCUS3035</td>\n",
       "      <td>45+</td>\n",
       "      <td>Delhi NCR</td>\n",
       "      <td>Business Owners</td>\n",
       "      <td>Female</td>\n",
       "      <td>Married</td>\n",
       "      <td>72805</td>\n",
       "    </tr>\n",
       "    <tr>\n",
       "      <th>3996</th>\n",
       "      <td>ATQCUS2585</td>\n",
       "      <td>35-45</td>\n",
       "      <td>Mumbai</td>\n",
       "      <td>Salaried Other Employees</td>\n",
       "      <td>Female</td>\n",
       "      <td>Married</td>\n",
       "      <td>41343</td>\n",
       "    </tr>\n",
       "    <tr>\n",
       "      <th>3997</th>\n",
       "      <td>ATQCUS1229</td>\n",
       "      <td>35-45</td>\n",
       "      <td>Bengaluru</td>\n",
       "      <td>Salaried IT Employees</td>\n",
       "      <td>Male</td>\n",
       "      <td>Married</td>\n",
       "      <td>65948</td>\n",
       "    </tr>\n",
       "    <tr>\n",
       "      <th>3998</th>\n",
       "      <td>ATQCUS0581</td>\n",
       "      <td>25-34</td>\n",
       "      <td>Bengaluru</td>\n",
       "      <td>Government Employees</td>\n",
       "      <td>Male</td>\n",
       "      <td>Married</td>\n",
       "      <td>52589</td>\n",
       "    </tr>\n",
       "    <tr>\n",
       "      <th>3999</th>\n",
       "      <td>ATQCUS3477</td>\n",
       "      <td>25-34</td>\n",
       "      <td>Mumbai</td>\n",
       "      <td>Business Owners</td>\n",
       "      <td>Male</td>\n",
       "      <td>Single</td>\n",
       "      <td>73541</td>\n",
       "    </tr>\n",
       "  </tbody>\n",
       "</table>\n",
       "<p>4000 rows × 7 columns</p>\n",
       "</div>"
      ],
      "text/plain": [
       "     customer_id age_group       city                occupation  gender  \\\n",
       "0     ATQCUS1825       45+  Bengaluru     Salaried IT Employees    Male   \n",
       "1     ATQCUS0809     25-34  Hyderabad  Salaried Other Employees    Male   \n",
       "2     ATQCUS0663     25-34    Chennai  Salaried Other Employees    Male   \n",
       "3     ATQCUS0452     25-34  Delhi NCR      Government Employees    Male   \n",
       "4     ATQCUS3350     21-24  Bengaluru               Freelancers    Male   \n",
       "...          ...       ...        ...                       ...     ...   \n",
       "3995  ATQCUS3035       45+  Delhi NCR           Business Owners  Female   \n",
       "3996  ATQCUS2585     35-45     Mumbai  Salaried Other Employees  Female   \n",
       "3997  ATQCUS1229     35-45  Bengaluru     Salaried IT Employees    Male   \n",
       "3998  ATQCUS0581     25-34  Bengaluru      Government Employees    Male   \n",
       "3999  ATQCUS3477     25-34     Mumbai           Business Owners    Male   \n",
       "\n",
       "     marital status  avg_income  \n",
       "0           Married       73523  \n",
       "1           Married       39922  \n",
       "2           Married       37702  \n",
       "3           Married       54090  \n",
       "4            Single       28376  \n",
       "...             ...         ...  \n",
       "3995        Married       72805  \n",
       "3996        Married       41343  \n",
       "3997        Married       65948  \n",
       "3998        Married       52589  \n",
       "3999         Single       73541  \n",
       "\n",
       "[4000 rows x 7 columns]"
      ]
     },
     "execution_count": 4,
     "metadata": {},
     "output_type": "execute_result"
    }
   ],
   "source": [
    "df_customer"
   ]
  },
  {
   "cell_type": "code",
   "execution_count": 5,
   "id": "b639bbd3-0292-4cb7-91c7-8b01e9fbd506",
   "metadata": {},
   "outputs": [
    {
     "name": "stdout",
     "output_type": "stream",
     "text": [
      "<class 'pandas.core.frame.DataFrame'>\n",
      "RangeIndex: 4000 entries, 0 to 3999\n",
      "Data columns (total 7 columns):\n",
      " #   Column          Non-Null Count  Dtype \n",
      "---  ------          --------------  ----- \n",
      " 0   customer_id     4000 non-null   object\n",
      " 1   age_group       4000 non-null   object\n",
      " 2   city            4000 non-null   object\n",
      " 3   occupation      4000 non-null   object\n",
      " 4   gender          4000 non-null   object\n",
      " 5   marital status  4000 non-null   object\n",
      " 6   avg_income      4000 non-null   int64 \n",
      "dtypes: int64(1), object(6)\n",
      "memory usage: 218.9+ KB\n"
     ]
    }
   ],
   "source": [
    "df_customer.info()"
   ]
  },
  {
   "cell_type": "code",
   "execution_count": 11,
   "id": "ee89a526-5ddb-4c44-823a-3de18fe865d5",
   "metadata": {},
   "outputs": [
    {
     "data": {
      "text/plain": [
       "array(['Male', 'Female'], dtype=object)"
      ]
     },
     "execution_count": 11,
     "metadata": {},
     "output_type": "execute_result"
    }
   ],
   "source": [
    "df_customer[\"gender\"].unique()"
   ]
  },
  {
   "cell_type": "code",
   "execution_count": 12,
   "id": "d0aebdfb-0206-4150-88de-2cf60711f643",
   "metadata": {},
   "outputs": [
    {
     "data": {
      "text/plain": [
       "array(['45+', '25-34', '21-24', '35-45'], dtype=object)"
      ]
     },
     "execution_count": 12,
     "metadata": {},
     "output_type": "execute_result"
    }
   ],
   "source": [
    "df_customer[\"age_group\"].unique()"
   ]
  },
  {
   "cell_type": "code",
   "execution_count": 13,
   "id": "32cd54c4-2ed0-4fc4-9bd2-0f828d191d8e",
   "metadata": {},
   "outputs": [
    {
     "data": {
      "text/plain": [
       "array(['Bengaluru', 'Hyderabad', 'Chennai', 'Delhi NCR', 'Mumbai'],\n",
       "      dtype=object)"
      ]
     },
     "execution_count": 13,
     "metadata": {},
     "output_type": "execute_result"
    }
   ],
   "source": [
    "df_customer[\"city\"].unique()"
   ]
  },
  {
   "cell_type": "code",
   "execution_count": 14,
   "id": "d15f48fb-68a5-430c-89e7-88002cb84709",
   "metadata": {},
   "outputs": [
    {
     "data": {
      "text/plain": [
       "array(['Salaried IT Employees', 'Salaried Other Employees',\n",
       "       'Government Employees', 'Freelancers', 'Business Owners'],\n",
       "      dtype=object)"
      ]
     },
     "execution_count": 14,
     "metadata": {},
     "output_type": "execute_result"
    }
   ],
   "source": [
    "df_customer[\"occupation\"].unique()"
   ]
  },
  {
   "cell_type": "code",
   "execution_count": 15,
   "id": "2c2b082c-b4e1-40ce-88e8-4445b7054fc3",
   "metadata": {},
   "outputs": [
    {
     "data": {
      "text/plain": [
       "array(['Married', 'Single'], dtype=object)"
      ]
     },
     "execution_count": 15,
     "metadata": {},
     "output_type": "execute_result"
    }
   ],
   "source": [
    "df_customer[\"marital status\"].unique()"
   ]
  },
  {
   "cell_type": "code",
   "execution_count": 16,
   "id": "ae37d8e2-7295-4a2d-9c63-e6c527b4ef9b",
   "metadata": {},
   "outputs": [
    {
     "data": {
      "text/html": [
       "<div>\n",
       "<style scoped>\n",
       "    .dataframe tbody tr th:only-of-type {\n",
       "        vertical-align: middle;\n",
       "    }\n",
       "\n",
       "    .dataframe tbody tr th {\n",
       "        vertical-align: top;\n",
       "    }\n",
       "\n",
       "    .dataframe thead th {\n",
       "        text-align: right;\n",
       "    }\n",
       "</style>\n",
       "<table border=\"1\" class=\"dataframe\">\n",
       "  <thead>\n",
       "    <tr style=\"text-align: right;\">\n",
       "      <th></th>\n",
       "      <th>avg_income</th>\n",
       "    </tr>\n",
       "  </thead>\n",
       "  <tbody>\n",
       "    <tr>\n",
       "      <th>count</th>\n",
       "      <td>4000.000000</td>\n",
       "    </tr>\n",
       "    <tr>\n",
       "      <th>mean</th>\n",
       "      <td>51657.032250</td>\n",
       "    </tr>\n",
       "    <tr>\n",
       "      <th>std</th>\n",
       "      <td>14690.140645</td>\n",
       "    </tr>\n",
       "    <tr>\n",
       "      <th>min</th>\n",
       "      <td>24816.000000</td>\n",
       "    </tr>\n",
       "    <tr>\n",
       "      <th>25%</th>\n",
       "      <td>38701.000000</td>\n",
       "    </tr>\n",
       "    <tr>\n",
       "      <th>50%</th>\n",
       "      <td>50422.000000</td>\n",
       "    </tr>\n",
       "    <tr>\n",
       "      <th>75%</th>\n",
       "      <td>64773.250000</td>\n",
       "    </tr>\n",
       "    <tr>\n",
       "      <th>max</th>\n",
       "      <td>86600.000000</td>\n",
       "    </tr>\n",
       "  </tbody>\n",
       "</table>\n",
       "</div>"
      ],
      "text/plain": [
       "         avg_income\n",
       "count   4000.000000\n",
       "mean   51657.032250\n",
       "std    14690.140645\n",
       "min    24816.000000\n",
       "25%    38701.000000\n",
       "50%    50422.000000\n",
       "75%    64773.250000\n",
       "max    86600.000000"
      ]
     },
     "execution_count": 16,
     "metadata": {},
     "output_type": "execute_result"
    }
   ],
   "source": [
    "df_customer.describe()"
   ]
  },
  {
   "cell_type": "code",
   "execution_count": null,
   "id": "609b8d09-c25c-4294-880a-41b947317fe7",
   "metadata": {},
   "outputs": [],
   "source": []
  },
  {
   "cell_type": "code",
   "execution_count": 24,
   "id": "d42899a1-fcb9-4167-b27c-80b6111487e0",
   "metadata": {},
   "outputs": [],
   "source": [
    "df_fact= pd.read_csv(r\"data\\fact_spends.csv\")"
   ]
  },
  {
   "cell_type": "code",
   "execution_count": 25,
   "id": "a8065c93-4534-4938-aff8-f11aeed1bf11",
   "metadata": {},
   "outputs": [
    {
     "data": {
      "text/html": [
       "<div>\n",
       "<style scoped>\n",
       "    .dataframe tbody tr th:only-of-type {\n",
       "        vertical-align: middle;\n",
       "    }\n",
       "\n",
       "    .dataframe tbody tr th {\n",
       "        vertical-align: top;\n",
       "    }\n",
       "\n",
       "    .dataframe thead th {\n",
       "        text-align: right;\n",
       "    }\n",
       "</style>\n",
       "<table border=\"1\" class=\"dataframe\">\n",
       "  <thead>\n",
       "    <tr style=\"text-align: right;\">\n",
       "      <th></th>\n",
       "      <th>customer_id</th>\n",
       "      <th>month</th>\n",
       "      <th>category</th>\n",
       "      <th>payment_type</th>\n",
       "      <th>spend</th>\n",
       "    </tr>\n",
       "  </thead>\n",
       "  <tbody>\n",
       "    <tr>\n",
       "      <th>0</th>\n",
       "      <td>ATQCUS1371</td>\n",
       "      <td>July</td>\n",
       "      <td>Health &amp; Wellness</td>\n",
       "      <td>Credit Card</td>\n",
       "      <td>1114</td>\n",
       "    </tr>\n",
       "    <tr>\n",
       "      <th>1</th>\n",
       "      <td>ATQCUS0368</td>\n",
       "      <td>October</td>\n",
       "      <td>Groceries</td>\n",
       "      <td>Credit Card</td>\n",
       "      <td>1466</td>\n",
       "    </tr>\n",
       "    <tr>\n",
       "      <th>2</th>\n",
       "      <td>ATQCUS0595</td>\n",
       "      <td>May</td>\n",
       "      <td>Health &amp; Wellness</td>\n",
       "      <td>Credit Card</td>\n",
       "      <td>387</td>\n",
       "    </tr>\n",
       "    <tr>\n",
       "      <th>3</th>\n",
       "      <td>ATQCUS0667</td>\n",
       "      <td>October</td>\n",
       "      <td>Electronics</td>\n",
       "      <td>Credit Card</td>\n",
       "      <td>1137</td>\n",
       "    </tr>\n",
       "    <tr>\n",
       "      <th>4</th>\n",
       "      <td>ATQCUS3477</td>\n",
       "      <td>September</td>\n",
       "      <td>Bills</td>\n",
       "      <td>UPI</td>\n",
       "      <td>2102</td>\n",
       "    </tr>\n",
       "    <tr>\n",
       "      <th>...</th>\n",
       "      <td>...</td>\n",
       "      <td>...</td>\n",
       "      <td>...</td>\n",
       "      <td>...</td>\n",
       "      <td>...</td>\n",
       "    </tr>\n",
       "    <tr>\n",
       "      <th>863995</th>\n",
       "      <td>ATQCUS1993</td>\n",
       "      <td>June</td>\n",
       "      <td>Bills</td>\n",
       "      <td>Debit Card</td>\n",
       "      <td>897</td>\n",
       "    </tr>\n",
       "    <tr>\n",
       "      <th>863996</th>\n",
       "      <td>ATQCUS1063</td>\n",
       "      <td>September</td>\n",
       "      <td>Bills</td>\n",
       "      <td>Credit Card</td>\n",
       "      <td>2680</td>\n",
       "    </tr>\n",
       "    <tr>\n",
       "      <th>863997</th>\n",
       "      <td>ATQCUS0416</td>\n",
       "      <td>August</td>\n",
       "      <td>Others</td>\n",
       "      <td>Credit Card</td>\n",
       "      <td>270</td>\n",
       "    </tr>\n",
       "    <tr>\n",
       "      <th>863998</th>\n",
       "      <td>ATQCUS3361</td>\n",
       "      <td>September</td>\n",
       "      <td>Bills</td>\n",
       "      <td>UPI</td>\n",
       "      <td>446</td>\n",
       "    </tr>\n",
       "    <tr>\n",
       "      <th>863999</th>\n",
       "      <td>ATQCUS1736</td>\n",
       "      <td>September</td>\n",
       "      <td>Apparel</td>\n",
       "      <td>UPI</td>\n",
       "      <td>242</td>\n",
       "    </tr>\n",
       "  </tbody>\n",
       "</table>\n",
       "<p>864000 rows × 5 columns</p>\n",
       "</div>"
      ],
      "text/plain": [
       "       customer_id      month           category payment_type  spend\n",
       "0       ATQCUS1371       July  Health & Wellness  Credit Card   1114\n",
       "1       ATQCUS0368    October          Groceries  Credit Card   1466\n",
       "2       ATQCUS0595        May  Health & Wellness  Credit Card    387\n",
       "3       ATQCUS0667    October        Electronics  Credit Card   1137\n",
       "4       ATQCUS3477  September              Bills          UPI   2102\n",
       "...            ...        ...                ...          ...    ...\n",
       "863995  ATQCUS1993       June              Bills   Debit Card    897\n",
       "863996  ATQCUS1063  September              Bills  Credit Card   2680\n",
       "863997  ATQCUS0416     August             Others  Credit Card    270\n",
       "863998  ATQCUS3361  September              Bills          UPI    446\n",
       "863999  ATQCUS1736  September            Apparel          UPI    242\n",
       "\n",
       "[864000 rows x 5 columns]"
      ]
     },
     "execution_count": 25,
     "metadata": {},
     "output_type": "execute_result"
    }
   ],
   "source": [
    "df_fact"
   ]
  },
  {
   "cell_type": "code",
   "execution_count": 26,
   "id": "6f266872-8585-4b2a-b4c9-697dff929934",
   "metadata": {},
   "outputs": [
    {
     "name": "stdout",
     "output_type": "stream",
     "text": [
      "<class 'pandas.core.frame.DataFrame'>\n",
      "RangeIndex: 864000 entries, 0 to 863999\n",
      "Data columns (total 5 columns):\n",
      " #   Column        Non-Null Count   Dtype \n",
      "---  ------        --------------   ----- \n",
      " 0   customer_id   864000 non-null  object\n",
      " 1   month         864000 non-null  object\n",
      " 2   category      864000 non-null  object\n",
      " 3   payment_type  864000 non-null  object\n",
      " 4   spend         864000 non-null  int64 \n",
      "dtypes: int64(1), object(4)\n",
      "memory usage: 33.0+ MB\n"
     ]
    }
   ],
   "source": [
    "df_fact.info()"
   ]
  },
  {
   "cell_type": "code",
   "execution_count": 30,
   "id": "14bd82ec-ffd7-465c-855e-facc36d88ad1",
   "metadata": {},
   "outputs": [
    {
     "data": {
      "text/plain": [
       "array(['July', 'October', 'May', 'September', 'June', 'August'],\n",
       "      dtype=object)"
      ]
     },
     "execution_count": 30,
     "metadata": {},
     "output_type": "execute_result"
    }
   ],
   "source": [
    "df_fact[\"month\"].unique()"
   ]
  },
  {
   "cell_type": "code",
   "execution_count": 32,
   "id": "e6ab233a-d934-4039-9dea-452e638ed51d",
   "metadata": {},
   "outputs": [
    {
     "data": {
      "text/plain": [
       "array(['Credit Card', 'UPI', 'Debit Card', 'Net Banking'], dtype=object)"
      ]
     },
     "execution_count": 32,
     "metadata": {},
     "output_type": "execute_result"
    }
   ],
   "source": [
    "df_fact[\"payment_type\"].unique()"
   ]
  },
  {
   "cell_type": "code",
   "execution_count": 33,
   "id": "303f6429-a035-4171-8a62-3c465c0a9a90",
   "metadata": {},
   "outputs": [
    {
     "data": {
      "text/html": [
       "<div>\n",
       "<style scoped>\n",
       "    .dataframe tbody tr th:only-of-type {\n",
       "        vertical-align: middle;\n",
       "    }\n",
       "\n",
       "    .dataframe tbody tr th {\n",
       "        vertical-align: top;\n",
       "    }\n",
       "\n",
       "    .dataframe thead th {\n",
       "        text-align: right;\n",
       "    }\n",
       "</style>\n",
       "<table border=\"1\" class=\"dataframe\">\n",
       "  <thead>\n",
       "    <tr style=\"text-align: right;\">\n",
       "      <th></th>\n",
       "      <th>spend</th>\n",
       "    </tr>\n",
       "  </thead>\n",
       "  <tbody>\n",
       "    <tr>\n",
       "      <th>count</th>\n",
       "      <td>864000.000000</td>\n",
       "    </tr>\n",
       "    <tr>\n",
       "      <th>mean</th>\n",
       "      <td>614.464994</td>\n",
       "    </tr>\n",
       "    <tr>\n",
       "      <th>std</th>\n",
       "      <td>661.571676</td>\n",
       "    </tr>\n",
       "    <tr>\n",
       "      <th>min</th>\n",
       "      <td>6.000000</td>\n",
       "    </tr>\n",
       "    <tr>\n",
       "      <th>25%</th>\n",
       "      <td>191.000000</td>\n",
       "    </tr>\n",
       "    <tr>\n",
       "      <th>50%</th>\n",
       "      <td>395.000000</td>\n",
       "    </tr>\n",
       "    <tr>\n",
       "      <th>75%</th>\n",
       "      <td>793.000000</td>\n",
       "    </tr>\n",
       "    <tr>\n",
       "      <th>max</th>\n",
       "      <td>10313.000000</td>\n",
       "    </tr>\n",
       "  </tbody>\n",
       "</table>\n",
       "</div>"
      ],
      "text/plain": [
       "               spend\n",
       "count  864000.000000\n",
       "mean      614.464994\n",
       "std       661.571676\n",
       "min         6.000000\n",
       "25%       191.000000\n",
       "50%       395.000000\n",
       "75%       793.000000\n",
       "max     10313.000000"
      ]
     },
     "execution_count": 33,
     "metadata": {},
     "output_type": "execute_result"
    }
   ],
   "source": [
    "df_fact.describe()"
   ]
  },
  {
   "cell_type": "code",
   "execution_count": null,
   "id": "b3ac2428-8363-4bf9-8788-2fcce11ec1b0",
   "metadata": {},
   "outputs": [],
   "source": []
  }
 ],
 "metadata": {
  "kernelspec": {
   "display_name": "Python 3 (ipykernel)",
   "language": "python",
   "name": "python3"
  },
  "language_info": {
   "codemirror_mode": {
    "name": "ipython",
    "version": 3
   },
   "file_extension": ".py",
   "mimetype": "text/x-python",
   "name": "python",
   "nbconvert_exporter": "python",
   "pygments_lexer": "ipython3",
   "version": "3.12.0"
  }
 },
 "nbformat": 4,
 "nbformat_minor": 5
}
